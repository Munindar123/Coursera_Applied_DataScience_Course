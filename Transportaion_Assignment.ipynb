{
  "nbformat": 4,
  "nbformat_minor": 0,
  "metadata": {
    "colab": {
      "name": "Transportaion_Assignment.ipynb",
      "provenance": [],
      "authorship_tag": "ABX9TyMPtriPdVLCCvzmTPrxxgsV",
      "include_colab_link": true
    },
    "kernelspec": {
      "name": "python3",
      "display_name": "Python 3"
    }
  },
  "cells": [
    {
      "cell_type": "markdown",
      "metadata": {
        "id": "view-in-github",
        "colab_type": "text"
      },
      "source": [
        "<a href=\"https://colab.research.google.com/github/Munindar123/Coursera_Applied_DataScience_Course/blob/master/Transportaion_Assignment.ipynb\" target=\"_parent\"><img src=\"https://colab.research.google.com/assets/colab-badge.svg\" alt=\"Open In Colab\"/></a>"
      ]
    },
    {
      "cell_type": "markdown",
      "metadata": {
        "id": "L_tEEIhq-loJ"
      },
      "source": [
        "**Problem Statment:\n",
        "Fit MLR model and interpret the modeling results**\n"
      ]
    },
    {
      "cell_type": "markdown",
      "metadata": {
        "id": "Y8tAZMRGArsa"
      },
      "source": [
        "**Importing pandas and matplotlib**\n"
      ]
    },
    {
      "cell_type": "code",
      "metadata": {
        "id": "20DBwOWltKv6"
      },
      "source": [
        "import pandas as pd\n",
        "import matplotlib.pyplot as plt"
      ],
      "execution_count": 18,
      "outputs": []
    },
    {
      "cell_type": "markdown",
      "metadata": {
        "id": "lEUFCDp9A31R"
      },
      "source": [
        "**Displaying top 5 rows of Dataset**"
      ]
    },
    {
      "cell_type": "code",
      "metadata": {
        "id": "rv5cjMQktuST",
        "outputId": "bfde32f1-c1d3-460d-c451-e543109566f0",
        "colab": {
          "base_uri": "https://localhost:8080/",
          "height": 195
        }
      },
      "source": [
        "df = pd.read_csv(\"/content/Tranport_Dataset.csv\")\n",
        "df.head()\n"
      ],
      "execution_count": 15,
      "outputs": [
        {
          "output_type": "execute_result",
          "data": {
            "text/html": [
              "<div>\n",
              "<style scoped>\n",
              "    .dataframe tbody tr th:only-of-type {\n",
              "        vertical-align: middle;\n",
              "    }\n",
              "\n",
              "    .dataframe tbody tr th {\n",
              "        vertical-align: top;\n",
              "    }\n",
              "\n",
              "    .dataframe thead th {\n",
              "        text-align: right;\n",
              "    }\n",
              "</style>\n",
              "<table border=\"1\" class=\"dataframe\">\n",
              "  <thead>\n",
              "    <tr style=\"text-align: right;\">\n",
              "      <th></th>\n",
              "      <th>No. of trips per household per day*</th>\n",
              "      <th>No. of working members</th>\n",
              "      <th>No. of student members</th>\n",
              "      <th>No. of motorized vehicle owned</th>\n",
              "      <th>Income (in thousands)</th>\n",
              "    </tr>\n",
              "  </thead>\n",
              "  <tbody>\n",
              "    <tr>\n",
              "      <th>0</th>\n",
              "      <td>4</td>\n",
              "      <td>1</td>\n",
              "      <td>3</td>\n",
              "      <td>1</td>\n",
              "      <td>40</td>\n",
              "    </tr>\n",
              "    <tr>\n",
              "      <th>1</th>\n",
              "      <td>4</td>\n",
              "      <td>2</td>\n",
              "      <td>1</td>\n",
              "      <td>4</td>\n",
              "      <td>50</td>\n",
              "    </tr>\n",
              "    <tr>\n",
              "      <th>2</th>\n",
              "      <td>4</td>\n",
              "      <td>1</td>\n",
              "      <td>2</td>\n",
              "      <td>2</td>\n",
              "      <td>70</td>\n",
              "    </tr>\n",
              "    <tr>\n",
              "      <th>3</th>\n",
              "      <td>4</td>\n",
              "      <td>1</td>\n",
              "      <td>2</td>\n",
              "      <td>2</td>\n",
              "      <td>55</td>\n",
              "    </tr>\n",
              "    <tr>\n",
              "      <th>4</th>\n",
              "      <td>2</td>\n",
              "      <td>1</td>\n",
              "      <td>0</td>\n",
              "      <td>3</td>\n",
              "      <td>40</td>\n",
              "    </tr>\n",
              "  </tbody>\n",
              "</table>\n",
              "</div>"
            ],
            "text/plain": [
              "   No. of trips per household per day*  ...  Income (in thousands)\n",
              "0                                    4  ...                     40\n",
              "1                                    4  ...                     50\n",
              "2                                    4  ...                     70\n",
              "3                                    4  ...                     55\n",
              "4                                    2  ...                     40\n",
              "\n",
              "[5 rows x 5 columns]"
            ]
          },
          "metadata": {
            "tags": []
          },
          "execution_count": 15
        }
      ]
    },
    {
      "cell_type": "markdown",
      "metadata": {
        "id": "rPQo9uhNBBJ-"
      },
      "source": [
        "**Adding last two digits of roll number into Trips column and displaying top 5 rows of data set**"
      ]
    },
    {
      "cell_type": "code",
      "metadata": {
        "id": "TDXUN3tcvpMU",
        "outputId": "f69e4945-7fe8-4674-836a-72fa67d70add",
        "colab": {
          "base_uri": "https://localhost:8080/",
          "height": 195
        }
      },
      "source": [
        "Roll_No = 60\n",
        "df['No. of trips per household per day*'] = df['No. of trips per household per day*'] + Roll_No\n",
        "df.head()"
      ],
      "execution_count": 17,
      "outputs": [
        {
          "output_type": "execute_result",
          "data": {
            "text/html": [
              "<div>\n",
              "<style scoped>\n",
              "    .dataframe tbody tr th:only-of-type {\n",
              "        vertical-align: middle;\n",
              "    }\n",
              "\n",
              "    .dataframe tbody tr th {\n",
              "        vertical-align: top;\n",
              "    }\n",
              "\n",
              "    .dataframe thead th {\n",
              "        text-align: right;\n",
              "    }\n",
              "</style>\n",
              "<table border=\"1\" class=\"dataframe\">\n",
              "  <thead>\n",
              "    <tr style=\"text-align: right;\">\n",
              "      <th></th>\n",
              "      <th>No. of trips per household per day*</th>\n",
              "      <th>No. of working members</th>\n",
              "      <th>No. of student members</th>\n",
              "      <th>No. of motorized vehicle owned</th>\n",
              "      <th>Income (in thousands)</th>\n",
              "    </tr>\n",
              "  </thead>\n",
              "  <tbody>\n",
              "    <tr>\n",
              "      <th>0</th>\n",
              "      <td>64</td>\n",
              "      <td>1</td>\n",
              "      <td>3</td>\n",
              "      <td>1</td>\n",
              "      <td>40</td>\n",
              "    </tr>\n",
              "    <tr>\n",
              "      <th>1</th>\n",
              "      <td>64</td>\n",
              "      <td>2</td>\n",
              "      <td>1</td>\n",
              "      <td>4</td>\n",
              "      <td>50</td>\n",
              "    </tr>\n",
              "    <tr>\n",
              "      <th>2</th>\n",
              "      <td>64</td>\n",
              "      <td>1</td>\n",
              "      <td>2</td>\n",
              "      <td>2</td>\n",
              "      <td>70</td>\n",
              "    </tr>\n",
              "    <tr>\n",
              "      <th>3</th>\n",
              "      <td>64</td>\n",
              "      <td>1</td>\n",
              "      <td>2</td>\n",
              "      <td>2</td>\n",
              "      <td>55</td>\n",
              "    </tr>\n",
              "    <tr>\n",
              "      <th>4</th>\n",
              "      <td>62</td>\n",
              "      <td>1</td>\n",
              "      <td>0</td>\n",
              "      <td>3</td>\n",
              "      <td>40</td>\n",
              "    </tr>\n",
              "  </tbody>\n",
              "</table>\n",
              "</div>"
            ],
            "text/plain": [
              "   No. of trips per household per day*  ...  Income (in thousands)\n",
              "0                                   64  ...                     40\n",
              "1                                   64  ...                     50\n",
              "2                                   64  ...                     70\n",
              "3                                   64  ...                     55\n",
              "4                                   62  ...                     40\n",
              "\n",
              "[5 rows x 5 columns]"
            ]
          },
          "metadata": {
            "tags": []
          },
          "execution_count": 17
        }
      ]
    },
    {
      "cell_type": "markdown",
      "metadata": {
        "id": "vlY39CH4BYpq"
      },
      "source": [
        "**Ploting independent variables VS dependent variable to check trend in dataset**"
      ]
    },
    {
      "cell_type": "code",
      "metadata": {
        "id": "Qqz4DnvHwLr5",
        "outputId": "fa4dddc7-d2d2-44e0-c19c-c8702f26872b",
        "colab": {
          "base_uri": "https://localhost:8080/",
          "height": 300
        }
      },
      "source": [
        "plt.scatter(df['No. of trips per household per day*'],df['Income (in thousands)'],color = 'r')\n",
        "plt.title(\"No. of trips per household per day* VS Income (in thousands)\",fontsize = 14)\n",
        "plt.xlabel(\"No. of trips per household per day*\",fontsize = 14)\n",
        "plt.ylabel('Income (in thousands)',fontsize = 14)\n",
        "plt.grid(True)\n",
        "plt.show()"
      ],
      "execution_count": 19,
      "outputs": [
        {
          "output_type": "display_data",
          "data": {
            "image/png": "[encoded data removed]",
            "text/plain": [
              "<Figure size 432x288 with 1 Axes>"
            ]
          },
          "metadata": {
            "tags": [],
            "needs_background": "light"
          }
        }
      ]
    },
    {
      "cell_type": "code",
      "metadata": {
        "id": "StowcB1A0a6i",
        "outputId": "3f763867-6996-409d-ff06-63c9c84de431",
        "colab": {
          "base_uri": "https://localhost:8080/",
          "height": 300
        }
      },
      "source": [
        "plt.scatter(df['No. of working members'],df['Income (in thousands)'],color = 'g')\n",
        "plt.title(\"No. of working member VS Income (in thousands)\",fontsize = 14)\n",
        "plt.xlabel(\"No. of working member\",fontsize = 14)\n",
        "plt.ylabel('Income (in thousands)',fontsize = 14)\n",
        "plt.grid(True)\n",
        "plt.show()"
      ],
      "execution_count": 20,
      "outputs": [
        {
          "output_type": "display_data",
          "data": {
            "image/png": "[encoded data removed]",
            "text/plain": [
              "<Figure size 432x288 with 1 Axes>"
            ]
          },
          "metadata": {
            "tags": [],
            "needs_background": "light"
          }
        }
      ]
    },
    {
      "cell_type": "code",
      "metadata": {
        "id": "hRI91Agz02y4",
        "outputId": "e92a60d6-2a6e-47c9-b4fe-0fc1696600f6",
        "colab": {
          "base_uri": "https://localhost:8080/",
          "height": 300
        }
      },
      "source": [
        "plt.scatter(df['No. of student members'],df['Income (in thousands)'],color = 'm')\n",
        "plt.title(\"No. of student members VS Income (in thousands)\",fontsize = 14)\n",
        "plt.xlabel(\"No. of student members\",fontsize = 14)\n",
        "plt.ylabel('Income (in thousands)',fontsize = 14)\n",
        "plt.grid(True)\n",
        "plt.show()"
      ],
      "execution_count": 22,
      "outputs": [
        {
          "output_type": "display_data",
          "data": {
            "image/png": "[encoded data removed]",
            "text/plain": [
              "<Figure size 432x288 with 1 Axes>"
            ]
          },
          "metadata": {
            "tags": [],
            "needs_background": "light"
          }
        }
      ]
    },
    {
      "cell_type": "code",
      "metadata": {
        "id": "0JO3WKoH1CGO",
        "outputId": "a9e46644-04ea-40c3-f9bb-628ed02306e2",
        "colab": {
          "base_uri": "https://localhost:8080/",
          "height": 300
        }
      },
      "source": [
        "plt.scatter(df['No. of motorized vehicle owned'],df['Income (in thousands)'],color = 'b')\n",
        "plt.title(\"No. of motorized vehicle owneds VS Income (in thousands)\",fontsize = 14)\n",
        "plt.xlabel(\"No. of motorized vehicle owned\",fontsize = 14)\n",
        "plt.ylabel('Income (in thousands)',fontsize = 14)\n",
        "plt.grid(True)\n",
        "plt.show()"
      ],
      "execution_count": 23,
      "outputs": [
        {
          "output_type": "display_data",
          "data": {
            "image/png": "[encoded data removed]",
            "text/plain": [
              "<Figure size 432x288 with 1 Axes>"
            ]
          },
          "metadata": {
            "tags": [],
            "needs_background": "light"
          }
        }
      ]
    },
    {
      "cell_type": "markdown",
      "metadata": {
        "id": "u4O8iwcNBpKD"
      },
      "source": [
        "**Spliting the dataset into x-set as independent variables and y-set as Dependent Varible**\n",
        "\n"
      ]
    },
    {
      "cell_type": "code",
      "metadata": {
        "id": "qaM_VMDT1Qjt"
      },
      "source": [
        "x = df[[\"No. of trips per household per day*\",'No. of working members'\t,'No. of student members'\t,'No. of motorized vehicle owned']]\n",
        "y = df['Income (in thousands)']\n"
      ],
      "execution_count": null,
      "outputs": []
    },
    {
      "cell_type": "markdown",
      "metadata": {
        "id": "e3FGerrLB6Tt"
      },
      "source": [
        "**Top 5 rows of x-Dataset**"
      ]
    },
    {
      "cell_type": "code",
      "metadata": {
        "id": "AH6-9kUU2Mpn",
        "outputId": "7450220c-968f-4f7e-8794-29163173be3f",
        "colab": {
          "base_uri": "https://localhost:8080/",
          "height": 195
        }
      },
      "source": [
        "x.head()"
      ],
      "execution_count": 27,
      "outputs": [
        {
          "output_type": "execute_result",
          "data": {
            "text/html": [
              "<div>\n",
              "<style scoped>\n",
              "    .dataframe tbody tr th:only-of-type {\n",
              "        vertical-align: middle;\n",
              "    }\n",
              "\n",
              "    .dataframe tbody tr th {\n",
              "        vertical-align: top;\n",
              "    }\n",
              "\n",
              "    .dataframe thead th {\n",
              "        text-align: right;\n",
              "    }\n",
              "</style>\n",
              "<table border=\"1\" class=\"dataframe\">\n",
              "  <thead>\n",
              "    <tr style=\"text-align: right;\">\n",
              "      <th></th>\n",
              "      <th>No. of trips per household per day*</th>\n",
              "      <th>No. of working members</th>\n",
              "      <th>No. of student members</th>\n",
              "      <th>No. of motorized vehicle owned</th>\n",
              "    </tr>\n",
              "  </thead>\n",
              "  <tbody>\n",
              "    <tr>\n",
              "      <th>0</th>\n",
              "      <td>64</td>\n",
              "      <td>1</td>\n",
              "      <td>3</td>\n",
              "      <td>1</td>\n",
              "    </tr>\n",
              "    <tr>\n",
              "      <th>1</th>\n",
              "      <td>64</td>\n",
              "      <td>2</td>\n",
              "      <td>1</td>\n",
              "      <td>4</td>\n",
              "    </tr>\n",
              "    <tr>\n",
              "      <th>2</th>\n",
              "      <td>64</td>\n",
              "      <td>1</td>\n",
              "      <td>2</td>\n",
              "      <td>2</td>\n",
              "    </tr>\n",
              "    <tr>\n",
              "      <th>3</th>\n",
              "      <td>64</td>\n",
              "      <td>1</td>\n",
              "      <td>2</td>\n",
              "      <td>2</td>\n",
              "    </tr>\n",
              "    <tr>\n",
              "      <th>4</th>\n",
              "      <td>62</td>\n",
              "      <td>1</td>\n",
              "      <td>0</td>\n",
              "      <td>3</td>\n",
              "    </tr>\n",
              "  </tbody>\n",
              "</table>\n",
              "</div>"
            ],
            "text/plain": [
              "   No. of trips per household per day*  ...  No. of motorized vehicle owned\n",
              "0                                   64  ...                               1\n",
              "1                                   64  ...                               4\n",
              "2                                   64  ...                               2\n",
              "3                                   64  ...                               2\n",
              "4                                   62  ...                               3\n",
              "\n",
              "[5 rows x 4 columns]"
            ]
          },
          "metadata": {
            "tags": []
          },
          "execution_count": 27
        }
      ]
    },
    {
      "cell_type": "markdown",
      "metadata": {
        "id": "7nhfmTucCAY-"
      },
      "source": [
        "**Top 5 rows of y-Dataset**"
      ]
    },
    {
      "cell_type": "code",
      "metadata": {
        "id": "xhWQp4tT2jhH",
        "outputId": "b20714d5-9669-4283-94bb-4c65eea0e8f1",
        "colab": {
          "base_uri": "https://localhost:8080/",
          "height": 118
        }
      },
      "source": [
        "y.head()"
      ],
      "execution_count": 28,
      "outputs": [
        {
          "output_type": "execute_result",
          "data": {
            "text/plain": [
              "0    40\n",
              "1    50\n",
              "2    70\n",
              "3    55\n",
              "4    40\n",
              "Name: Income (in thousands), dtype: int64"
            ]
          },
          "metadata": {
            "tags": []
          },
          "execution_count": 28
        }
      ]
    },
    {
      "cell_type": "markdown",
      "metadata": {
        "id": "QI_ttq1ICHIp"
      },
      "source": [
        "**Applying liner model using Scikit learn and calculating intercept and cofficients**"
      ]
    },
    {
      "cell_type": "code",
      "metadata": {
        "id": "J-izKmsT2mDh",
        "outputId": "efcffee8-29b1-4812-ad6b-c3b106e9a491",
        "colab": {
          "base_uri": "https://localhost:8080/",
          "height": 101
        }
      },
      "source": [
        "import statsmodels.api as sm\n",
        "from sklearn.linear_model import LinearRegression\n",
        "reg = LinearRegression()\n",
        "reg.fit(x,y)\n",
        "print(\"Intercept:\",reg.intercept_)\n",
        "print(\"Coefficient of No. of trips per household per day*: \",reg.coef_[0])\n",
        "print(\"Coefficient of No. of working members: \",reg.coef_[1])\n",
        "print(\"Coefficient of No. of student members: \",reg.coef_[2])\n",
        "print(\"Coefficient of No. of motorized vehicle owned: \",reg.coef_[3])\n"
      ],
      "execution_count": 34,
      "outputs": [
        {
          "output_type": "stream",
          "text": [
            "Intercept: 132.82154391532876\n",
            "Coefficient of No. of trips per household per day*:  -2.0159196870966087\n",
            "Coefficient of No. of working members:  4.477708597783447\n",
            "Coefficient of No. of student members:  3.6207729511918565\n",
            "Coefficient of No. of motorized vehicle owned:  7.847342312674954\n"
          ],
          "name": "stdout"
        }
      ]
    },
    {
      "cell_type": "markdown",
      "metadata": {
        "id": "4unLIP_36gAU"
      },
      "source": [
        ""
      ]
    },
    {
      "cell_type": "markdown",
      "metadata": {
        "id": "rw-f2M7rClF6"
      },
      "source": [
        "**Getting Output Report using statsmodels for Regression**"
      ]
    },
    {
      "cell_type": "code",
      "metadata": {
        "id": "4d0FbEiU52c2",
        "outputId": "3455e86d-f6a2-4e63-bcba-9fc54d5619f1",
        "colab": {
          "base_uri": "https://localhost:8080/",
          "height": 521
        }
      },
      "source": [
        "X = sm.add_constant(x)\n",
        "output = sm.OLS(y,X).fit().summary()\n",
        "print(output)"
      ],
      "execution_count": 47,
      "outputs": [
        {
          "output_type": "stream",
          "text": [
            "                              OLS Regression Results                             \n",
            "=================================================================================\n",
            "Dep. Variable:     Income (in thousands)   R-squared:                       0.266\n",
            "Model:                               OLS   Adj. R-squared:                  0.262\n",
            "Method:                    Least Squares   F-statistic:                     58.15\n",
            "Date:                   Sat, 03 Oct 2020   Prob (F-statistic):           6.94e-42\n",
            "Time:                           05:58:19   Log-Likelihood:                -2902.5\n",
            "No. Observations:                    646   AIC:                             5815.\n",
            "Df Residuals:                        641   BIC:                             5837.\n",
            "Df Model:                              4                                         \n",
            "Covariance Type:               nonrobust                                         \n",
            "=======================================================================================================\n",
            "                                          coef    std err          t      P>|t|      [0.025      0.975]\n",
            "-------------------------------------------------------------------------------------------------------\n",
            "const                                 132.8215     75.554      1.758      0.079     -15.541     281.184\n",
            "No. of trips per household per day*    -2.0159      1.235     -1.632      0.103      -4.442       0.410\n",
            "No. of working members                  4.4777      1.519      2.948      0.003       1.495       7.460\n",
            "No. of student members                  3.6208      1.318      2.747      0.006       1.033       6.209\n",
            "No. of motorized vehicle owned          7.8473      0.578     13.582      0.000       6.713       8.982\n",
            "==============================================================================\n",
            "Omnibus:                      881.986   Durbin-Watson:                   1.580\n",
            "Prob(Omnibus):                  0.000   Jarque-Bera (JB):           323181.871\n",
            "Skew:                           6.805   Prob(JB):                         0.00\n",
            "Kurtosis:                     111.727   Cond. No.                     5.64e+03\n",
            "==============================================================================\n",
            "\n",
            "Warnings:\n",
            "[1] Standard Errors assume that the covariance matrix of the errors is correctly specified.\n",
            "[2] The condition number is large, 5.64e+03. This might indicate that there are\n",
            "strong multicollinearity or other numerical problems.\n"
          ],
          "name": "stdout"
        }
      ]
    },
    {
      "cell_type": "code",
      "metadata": {
        "id": "nu6Zkkv08F08"
      },
      "source": [
        ""
      ],
      "execution_count": null,
      "outputs": []
    },
    {
      "cell_type": "code",
      "metadata": {
        "id": "AUuYUI4h84z-"
      },
      "source": [
        ""
      ],
      "execution_count": null,
      "outputs": []
    }
  ]
}